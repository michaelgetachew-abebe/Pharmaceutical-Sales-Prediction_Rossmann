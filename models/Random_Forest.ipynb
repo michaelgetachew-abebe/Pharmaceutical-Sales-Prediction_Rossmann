{
 "cells": [
  {
   "cell_type": "code",
   "execution_count": 9,
   "metadata": {},
   "outputs": [],
   "source": [
    "import pandas as pd\n",
    "import numpy as np\n",
    "import dvc.api\n",
    "import mlflow\n",
    "import mlflow.sklearn\n",
    "import logging\n",
    "import pickle\n",
    "import warnings\n",
    "warnings.filterwarnings(\"ignore\")\n",
    "from sklearn.ensemble import RandomForestRegressor\n",
    "from sklearn.model_selection import train_test_split\n",
    "from sklearn import *"
   ]
  },
  {
   "cell_type": "code",
   "execution_count": 6,
   "metadata": {},
   "outputs": [],
   "source": [
    "import os\n",
    "import sys\n",
    "#cwd = os.getcwd()\n",
    "sys.path.append(os.path.abspath(os.path.join('../scripts')))\n",
    "\n",
    "from data_preprocess import preprocess\n",
    "from logger_creator import log\n",
    "from loss_functions import rmse"
   ]
  },
  {
   "cell_type": "code",
   "execution_count": 7,
   "metadata": {},
   "outputs": [
    {
     "name": "stderr",
     "output_type": "stream",
     "text": [
      "INFO Random Forest is Rolling....\n"
     ]
    }
   ],
   "source": [
    "data_version = \"version1\"\n",
    "data_url = dvc.api.get_url(\n",
    "    path = 'data/train_store.csv',\n",
    "    repo = 'https://github.com/michaelgetachew-abebe/Pharmaceutical-Sales-Prediction_Rossmann'\n",
    ")\n",
    "\n",
    "logger = log(path = '../logs/', file = 'randomforestregressor_log.log')\n",
    "logger.info(\"Random Forest is Rolling....\")"
   ]
  },
  {
   "cell_type": "code",
   "execution_count": 8,
   "metadata": {},
   "outputs": [
    {
     "name": "stderr",
     "output_type": "stream",
     "text": [
      "2022/09/09 16:16:32 INFO mlflow.tracking.fluent: Experiment with name 'Pharmaceutical sales prediction accros multiple stores in case of Rosemann Pharmaceuticals' does not exist. Creating a new experiment.\n"
     ]
    },
    {
     "data": {
      "text/plain": [
       "<Experiment: artifact_location='file:///C:/Users/mikyg/OneDrive/Desktop/10%20Acadamy/Week%203/Pharmaceutical-Sales-Prediction_Rossmann/models/mlruns/1', experiment_id='1', lifecycle_stage='active', name=('Pharmaceutical sales prediction accros multiple stores in case of Rosemann '\n",
       " 'Pharmaceuticals'), tags={}>"
      ]
     },
     "execution_count": 8,
     "metadata": {},
     "output_type": "execute_result"
    }
   ],
   "source": [
    "mlflow.set_experiment(\"Pharmaceutical sales prediction accros multiple stores in case of Rosemann Pharmaceuticals\")\n"
   ]
  },
  {
   "cell_type": "code",
   "execution_count": null,
   "metadata": {},
   "outputs": [],
   "source": []
  },
  {
   "cell_type": "code",
   "execution_count": null,
   "metadata": {},
   "outputs": [],
   "source": [
    "\n",
    "\n",
    "if __name__ == \"main\":\n",
    "    warnings.filterwarnings(\"ignore\")\n",
    "    train_store = pd.read_csv('../data/train_store.csv, parse_dates=True, index_col=0')\n",
    "    mlflow.log_param('data_version', data_version)\n",
    "    mlflow.log_param('model_type', 'Random Forest Reressor')\n",
    "    mlflow.log_param('data_url', data_url)\n",
    "\n",
    "    test = pd.read_csv('../data/test.csv', parse_date = True, index_col = \"Date\")\n",
    "\n",
    "    X_train, X_test, y_train, y_test = train_test_split(train_store, test, test_size=0.2, random_state=20)\n",
    "    logger.info(\"Training and testing split was successful.\")\n",
    "    mlflow.log_param(\"Input columns:\", X_train.shape[0])\n",
    "    mlflow.log_param(\"Input rows:\", X_train.shape[1])\n",
    "\n",
    "    randomforestregressor = RandomForestRegressor(\n",
    "        n_estimators = 60,\n",
    "        criterion = 'mse',\n",
    "        max_depth = 15,\n",
    "        min_samples_leaf = 1,\n",
    "        min_samples_split = 2,\n",
    "        min_weight_fraction_leaf = 0.0,\n",
    "        max_features = 'auto',\n",
    "        max_leaf_nodes = None,\n",
    "        min_impurity_decrease = 0.0,\n",
    "        min_impurity_split = None,\n",
    "        bootstrap = True,\n",
    "        oob_score = False,\n",
    "        n_jobs = 4,\n",
    "        random_state = 18,\n",
    "        verbose = 0,\n",
    "        warm_start = False)\n",
    "    \n",
    "    randomforestregressor.fit(X_train, y_train)\n",
    "    logger.info(\"Model fitting completed successfully\")\n",
    "    mlflow.sklearn.log_model(randomforestregressor, \"Random Forest Regressor Model\")\n",
    "\n",
    "    #Prediction and Evaluation of the model\n",
    "    ybar = randomforestregressor(X_test)\n",
    "    prediction_error = rmse(y_test, ybar)\n",
    "\n",
    "    logger.info(f\"Model Prediction Error{prediction_error}\")\n",
    "    mlflow.log_param(\"Model Prediction Error\", prediction_error)\n",
    "    with open(\"Random_forest_regressor.txt\", \"w\") as outfile:\n",
    "        outfile.write(\"Model Prediction Error in:\" + str(prediction_error))"
   ]
  }
 ],
 "metadata": {
  "kernelspec": {
   "display_name": "Python 3.9.12 ('base')",
   "language": "python",
   "name": "python3"
  },
  "language_info": {
   "codemirror_mode": {
    "name": "ipython",
    "version": 3
   },
   "file_extension": ".py",
   "mimetype": "text/x-python",
   "name": "python",
   "nbconvert_exporter": "python",
   "pygments_lexer": "ipython3",
   "version": "3.9.12"
  },
  "orig_nbformat": 4,
  "vscode": {
   "interpreter": {
    "hash": "8b1e457b8bfb0f1a80baef745a8b0e3e0434ec352b0bd03e5bd8b3ada5f38a19"
   }
  }
 },
 "nbformat": 4,
 "nbformat_minor": 2
}
