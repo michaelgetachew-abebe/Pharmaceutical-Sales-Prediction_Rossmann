{
 "cells": [
  {
   "cell_type": "code",
   "execution_count": null,
   "metadata": {},
   "outputs": [],
   "source": []
  },
  {
   "cell_type": "code",
   "execution_count": null,
   "metadata": {},
   "outputs": [],
   "source": [
    "import pandas as pd\n",
    "import numpy as np\n",
    "import matplotlib.pyplot as plt\n",
    "import seaborn as sns\n",
    "import sys, os\n",
    "sys.path.append(os.path.abspath(os.path.join('../scripts')))\n",
    "from data_preprocess import preprocess"
   ]
  }
 ],
 "metadata": {
  "kernelspec": {
   "display_name": "Python 3.9.12 ('base')",
   "language": "python",
   "name": "python3"
  },
  "language_info": {
   "name": "python",
   "version": "3.9.12"
  },
  "orig_nbformat": 4,
  "vscode": {
   "interpreter": {
    "hash": "8b1e457b8bfb0f1a80baef745a8b0e3e0434ec352b0bd03e5bd8b3ada5f38a19"
   }
  }
 },
 "nbformat": 4,
 "nbformat_minor": 2
}
